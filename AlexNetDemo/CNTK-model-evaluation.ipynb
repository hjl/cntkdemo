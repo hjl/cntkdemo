{
 "cells": [
  {
   "cell_type": "markdown",
   "metadata": {},
   "source": [
    "## CNTK model evaluation"
   ]
  },
  {
   "cell_type": "code",
   "execution_count": null,
   "metadata": {
    "collapsed": true
   },
   "outputs": [],
   "source": [
    "from cntk.ops.functions import load_model\n",
    "from PIL import Image \n",
    "import numpy as np"
   ]
  },
  {
   "cell_type": "code",
   "execution_count": null,
   "metadata": {
    "collapsed": true
   },
   "outputs": [],
   "source": [
    "z = load_model(\"mycnn.dnn\")"
   ]
  },
  {
   "cell_type": "code",
   "execution_count": null,
   "metadata": {
    "collapsed": true
   },
   "outputs": [],
   "source": [
    "# JPG image is stored and read in as RGB data, CNTK model is trained in BGR format, so need to permute input\n",
    "rgb_image = np.asarray(Image.open(\"foo.jpg\"), dtype=np.float32) - 128\n",
    "bgr_image = rgb_image[..., [2, 1, 0]]\n",
    "pic = np.ascontiguousarray(np.rollaxis(bgr_image, 2))"
   ]
  },
  {
   "cell_type": "code",
   "execution_count": null,
   "metadata": {
    "collapsed": true
   },
   "outputs": [],
   "source": [
    "\n",
    "predictions = np.squeeze(z.eval({z.arguments[0]:[pic]}))\n",
    "top_class = np.argmax(predictions)"
   ]
  }
 ],
 "metadata": {
  "kernelspec": {
   "display_name": "Python [conda env:cntk35]",
   "language": "python",
   "name": "conda-env-cntk35-py"
  },
  "language_info": {
   "codemirror_mode": {
    "name": "ipython",
    "version": 3
   },
   "file_extension": ".py",
   "mimetype": "text/x-python",
   "name": "python",
   "nbconvert_exporter": "python",
   "pygments_lexer": "ipython3",
   "version": "3.5.2"
  }
 },
 "nbformat": 4,
 "nbformat_minor": 2
}
