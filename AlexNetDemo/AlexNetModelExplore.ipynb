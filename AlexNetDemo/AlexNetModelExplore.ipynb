{
 "cells": [
  {
   "cell_type": "markdown",
   "metadata": {},
   "source": [
    "# Read data from CNTK model file\n",
    "assumes that the data has already been dumped to a file in the current directory, called AlexNetDump.txt, representing an AlexNet model from the CNTK AlexNet example in CNTK/Tests/EndToEndTest/Image/AlexNet"
   ]
  },
  {
   "cell_type": "code",
   "execution_count": null,
   "metadata": {
    "collapsed": false
   },
   "outputs": [],
   "source": [
    "import numpy as np\n",
    "from matplotlib import pyplot as plt"
   ]
  },
  {
   "cell_type": "code",
   "execution_count": null,
   "metadata": {
    "collapsed": true
   },
   "outputs": [],
   "source": [
    "infile = open(\"./AlexNetDump.txt\")"
   ]
  },
  {
   "cell_type": "code",
   "execution_count": null,
   "metadata": {
    "collapsed": true
   },
   "outputs": [],
   "source": [
    "# discard first 3 lines, containing '\\n', \n",
    "# 'ce=CrossEntropyWithSoftmax ( labels , OutputNodes.z ) \\n'\n",
    "# 'conv1.b=LearnableParameter [1,64]   learningRateMultiplier=1.000000  NeedsGradient=true \\n'\n",
    "# first entry is conv1 layer bias values\n",
    "for i in range(3):\n",
    "    infile.readline()"
   ]
  },
  {
   "cell_type": "code",
   "execution_count": null,
   "metadata": {
    "collapsed": true
   },
   "outputs": [],
   "source": [
    "txtline = infile.readline()\n",
    "a = txtline.split()\n",
    "conv1_bias = []\n",
    "for i in range(64):\n",
    "    conv1_bias.append(float(a[i]))\n",
    "conv1_bias_matrix = np.matrix(conv1_bias).reshape(8,8)"
   ]
  },
  {
   "cell_type": "code",
   "execution_count": null,
   "metadata": {
    "collapsed": false
   },
   "outputs": [],
   "source": [
    "conv1_bias_matrix"
   ]
  },
  {
   "cell_type": "raw",
   "metadata": {},
   "source": [
    "next 5 lines describe the conv1 weights, followed by 64 lines of 363 weights each\n",
    "####################################################################\n",
    "conv1.c=Convolution ( conv1.W , features ) Geometry:  Input: 224 x 224 x 3, Output: 56 x 56 x 64, Kernel: 11 x 11 x 3, Map: 1 x 1 x 64, Stride: 4 x 4 x 3, Sharing: (1), AutoPad: (1), LowerPad: 0, UpperPad: 0 PoolKind:  0\n",
    "\n",
    "conv1.W=LearnableParameter [64,363]   learningRateMultiplier=1.000000  NeedsGradient=true\n",
    "\n"
   ]
  },
  {
   "cell_type": "code",
   "execution_count": null,
   "metadata": {
    "collapsed": false
   },
   "outputs": [],
   "source": [
    "txtline = infile.readline()\n",
    "a = txtline.split()\n",
    "conv1_w = []\n",
    "for i in range(363):\n",
    "    conv1_bias.append(float(a[i])\n",
    "conv1_w_matrix = np.array(conv1_bias).reshape(3, 11, 11)\n"
   ]
  },
  {
   "cell_type": "code",
   "execution_count": null,
   "metadata": {
    "collapsed": true
   },
   "outputs": [],
   "source": [
    "txtline"
   ]
  },
  {
   "cell_type": "code",
   "execution_count": null,
   "metadata": {
    "collapsed": false
   },
   "outputs": [],
   "source": [
    "plt.imshow(c)\n",
    "plt.show()"
   ]
  },
  {
   "cell_type": "code",
   "execution_count": null,
   "metadata": {
    "collapsed": true
   },
   "outputs": [],
   "source": [
    "txtline1 = infile.readline()\n",
    "txtline1"
   ]
  },
  {
   "cell_type": "code",
   "execution_count": null,
   "metadata": {
    "collapsed": true
   },
   "outputs": [],
   "source": []
  }
 ],
 "metadata": {
  "kernelspec": {
   "display_name": "Python [py34]",
   "language": "python",
   "name": "Python [py34]"
  },
  "language_info": {
   "codemirror_mode": {
    "name": "ipython",
    "version": 3
   },
   "file_extension": ".py",
   "mimetype": "text/x-python",
   "name": "python",
   "nbconvert_exporter": "python",
   "pygments_lexer": "ipython3",
   "version": "3.4.5"
  }
 },
 "nbformat": 4,
 "nbformat_minor": 0
}
